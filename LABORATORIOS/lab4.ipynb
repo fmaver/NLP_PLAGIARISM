{
 "cells": [
  {
   "cell_type": "code",
   "id": "initial_id",
   "metadata": {
    "collapsed": true,
    "ExecuteTime": {
     "end_time": "2024-06-07T23:06:39.636214Z",
     "start_time": "2024-06-07T23:06:39.107484Z"
    }
   },
   "source": [
    "from plagiarism.adapters.document_converter import PDFReader\n",
    "\n",
    "# transform a pdf into a text file\n",
    "\n",
    "\n",
    "# open the pdf file\n",
    "pdfPath = '/Users/franciscomaver/Desktop/UTN/AECH/Primer Parcial 1_7_ Revisión del intento.pdf'\n",
    "\n",
    "# create a pdf reader object\n",
    "pdfReader = PDFReader()\n",
    "\n",
    "# Extract text from all the document\n",
    "text = pdfReader.read_pdf(pdfPath)\n",
    "    \n",
    "# Save the text into a text file\n",
    "textFile = open('/Users/franciscomaver/Desktop/UTN/AECH/parcial-AECH-1.txt', 'w')\n",
    "textFile.write(text)\n",
    "textFile.close()\n",
    "\n"
   ],
   "outputs": [],
   "execution_count": 3
  },
  {
   "metadata": {},
   "cell_type": "code",
   "outputs": [],
   "execution_count": null,
   "source": "",
   "id": "49831a38ae03cf7b"
  }
 ],
 "metadata": {
  "kernelspec": {
   "display_name": "Python 3",
   "language": "python",
   "name": "python3"
  },
  "language_info": {
   "codemirror_mode": {
    "name": "ipython",
    "version": 2
   },
   "file_extension": ".py",
   "mimetype": "text/x-python",
   "name": "python",
   "nbconvert_exporter": "python",
   "pygments_lexer": "ipython2",
   "version": "2.7.6"
  }
 },
 "nbformat": 4,
 "nbformat_minor": 5
}
