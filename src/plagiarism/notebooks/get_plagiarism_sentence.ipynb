{
 "cells": [
  {
   "cell_type": "code",
   "id": "initial_id",
   "metadata": {
    "collapsed": true,
    "ExecuteTime": {
     "end_time": "2024-05-24T21:20:26.947112Z",
     "start_time": "2024-05-24T21:20:21.167987Z"
    }
   },
   "source": [
    "import spacy\n",
    "from sklearn.metrics.pairwise import cosine_similarity\n",
    "\n",
    "from plagiarism.adapters.detector import SentenceDetector\n",
    "from plagiarism.domain.models.bert_model import BertModelWrapper\n",
    "\n",
    "bert_model = BertModelWrapper()\n",
    "sentence_detector = SentenceDetector()"
   ],
   "outputs": [
    {
     "name": "stderr",
     "output_type": "stream",
     "text": [
      "Some weights of BertModel were not initialized from the model checkpoint at dccuchile/bert-base-spanish-wwm-cased and are newly initialized: ['bert.pooler.dense.bias', 'bert.pooler.dense.weight']\n",
      "You should probably TRAIN this model on a down-stream task to be able to use it for predictions and inference.\n"
     ]
    }
   ],
   "execution_count": 1
  },
  {
   "metadata": {
    "ExecuteTime": {
     "end_time": "2024-05-24T21:20:27.473702Z",
     "start_time": "2024-05-24T21:20:26.948568Z"
    }
   },
   "cell_type": "code",
   "source": [
    "text = \"Este es un texto de ejemplo. Vamos a analizar las palabras y sus dependencias. Gracias..\"\n",
    "text_sentences = sentence_detector.get_sentences(text)\n",
    "text_embedding = [bert_model.get_embedding(sentence) for sentence in text_sentences]\n",
    "\n",
    "print(text_sentences)"
   ],
   "id": "69b69e087dd6fc6a",
   "outputs": [
    {
     "name": "stdout",
     "output_type": "stream",
     "text": [
      "['Este es un texto de ejemplo.', 'Vamos a analizar las palabras y sus dependencias.', 'Gracias..']\n"
     ]
    }
   ],
   "execution_count": 2
  },
  {
   "metadata": {
    "ExecuteTime": {
     "end_time": "2024-05-24T21:20:27.593875Z",
     "start_time": "2024-05-24T21:20:27.474564Z"
    }
   },
   "cell_type": "code",
   "source": [
    "plagiarized_text = \"Este es un texto de ejemplo. Vamos a analizar las palabras y sus dependencias. Gracias..\"\n",
    "plagiarized_sentences = sentence_detector.get_sentences(plagiarized_text)\n",
    "plagiarized_embedding_embedding = [bert_model.get_embedding(sentence) for sentence in plagiarized_sentences]\n",
    "\n",
    "print(plagiarized_sentences)"
   ],
   "id": "6e35a165a52d1b98",
   "outputs": [
    {
     "name": "stdout",
     "output_type": "stream",
     "text": [
      "['Este es un texto de ejemplo.', 'Vamos a analizar las palabras y sus dependencias.', 'Gracias..']\n"
     ]
    }
   ],
   "execution_count": 3
  },
  {
   "metadata": {
    "ExecuteTime": {
     "end_time": "2024-05-24T21:22:26.133458Z",
     "start_time": "2024-05-24T21:22:26.126940Z"
    }
   },
   "cell_type": "code",
   "source": [
    "for i, new_sentence_embedding in enumerate(text_embedding):\n",
    "    for j, plagiarized_sentence_embedding in enumerate(plagiarized_embedding_embedding):\n",
    "        similarity = cosine_similarity([new_sentence_embedding], [plagiarized_sentence_embedding])[0][0]\n",
    "        print(f\"Similarity: {similarity}\")\n",
    "        if similarity > 0.9:\n",
    "            print(f\"Plagiarized sentence: {text_sentences[i]}\")\n",
    "            print(f\"Similar sentence: {plagiarized_sentences[j]}\")\n",
    "            break"
   ],
   "id": "2dcbce952be631f2",
   "outputs": [
    {
     "name": "stdout",
     "output_type": "stream",
     "text": [
      "Similarity: 1.0\n",
      "Plagiarized sentence: Este es un texto de ejemplo.\n",
      "Similar sentence: Este es un texto de ejemplo.\n",
      "Similarity: 0.8175391554832458\n",
      "Similarity: 0.9999998211860657\n",
      "Plagiarized sentence: Vamos a analizar las palabras y sus dependencias.\n",
      "Similar sentence: Vamos a analizar las palabras y sus dependencias.\n",
      "Similarity: 0.7589678764343262\n",
      "Similarity: 0.7538003921508789\n",
      "Similarity: 1.0\n",
      "Plagiarized sentence: Gracias..\n",
      "Similar sentence: Gracias..\n"
     ]
    }
   ],
   "execution_count": 9
  },
  {
   "metadata": {},
   "cell_type": "code",
   "outputs": [],
   "execution_count": null,
   "source": "",
   "id": "e262000fa07a9fc1"
  }
 ],
 "metadata": {
  "kernelspec": {
   "display_name": "Python 3",
   "language": "python",
   "name": "python3"
  },
  "language_info": {
   "codemirror_mode": {
    "name": "ipython",
    "version": 2
   },
   "file_extension": ".py",
   "mimetype": "text/x-python",
   "name": "python",
   "nbconvert_exporter": "python",
   "pygments_lexer": "ipython2",
   "version": "2.7.6"
  }
 },
 "nbformat": 4,
 "nbformat_minor": 5
}
