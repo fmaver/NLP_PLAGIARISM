{
 "cells": [
  {
   "cell_type": "code",
   "id": "initial_id",
   "metadata": {
    "collapsed": true,
    "ExecuteTime": {
     "end_time": "2024-05-18T03:32:23.941547Z",
     "start_time": "2024-05-18T03:32:22.852362Z"
    }
   },
   "source": [
    "# Useful libraries\n",
    "import numpy as np\n",
    "import torch\n",
    "from keras.preprocessing.sequence import pad_sequences\n",
    "from transformers import BertTokenizer,  AutoModelForSequenceClassification\n",
    "from tqdm import tqdm\n",
    "import os\n",
    "import pandas as pd\n",
    "import re\n",
    " \n",
    "# Load bert model\n",
    "model_path = \"bert-base-uncased\"\n",
    "tokenizer = BertTokenizer.from_pretrained(model_path,\n",
    "                                         do_lower_case=True)\n",
    "model = AutoModelForSequenceClassification.from_pretrained(model_path,\n",
    "                                                         output_attentions=False,\n",
    "                                                         output_hidden_states=True)\n",
    "                                                        \n",
    "device = \"cuda\" if torch.cuda.is_available() else \"cpu\"\n",
    "model.to(device)\n",
    " \n",
    "def create_vector_from_text(tokenizer, model, text, MAX_LEN = 510):\n",
    "  \n",
    "    input_ids = tokenizer.encode(\n",
    "                        text,\n",
    "                        add_special_tokens = True,\n",
    "                        max_length = MAX_LEN,                          \n",
    "    )   \n",
    "    results = pad_sequences([input_ids], maxlen=MAX_LEN, dtype=\"long\",\n",
    "                              truncating=\"post\", padding=\"post\")\n",
    "    # Remove the outer list.\n",
    "    input_ids = results[0]\n",
    "    # Create attention masks   \n",
    "    attention_mask = [int(i>0) for i in input_ids]\n",
    "    # Convert to tensors.\n",
    "    input_ids = torch.tensor(input_ids)\n",
    "    attention_mask = torch.tensor(attention_mask)\n",
    "    # Add an extra dimension for the \"batch\" (even though there is only one\n",
    "    # input in this batch.)\n",
    "    input_ids = input_ids.unsqueeze(0)\n",
    "    attention_mask = attention_mask.unsqueeze(0)\n",
    "    # Put the model in \"evaluation\" mode, meaning feed-forward operation.\n",
    "    model.eval()\n",
    "    # Run the text through BERT, and collect all of the hidden states produced\n",
    "    # from all 12 layers.\n",
    "    with torch.no_grad():       \n",
    "        logits, encoded_layers = model(\n",
    "                                    input_ids = input_ids,\n",
    "                                    token_type_ids = None,\n",
    "                                    attention_mask = attention_mask,\n",
    "                                    return_dict=False)\n",
    "\n",
    "    layer_i = 12 # The last BERT layer before the classifier.\n",
    "    batch_i = 0 # Only one input in the batch.\n",
    "    token_i = 0 # The first token, corresponding to [CLS]\n",
    "      \n",
    "    # Extract the vector.\n",
    "    vector = encoded_layers[layer_i][batch_i][token_i]\n",
    "    # Move to the CPU and convert to numpy ndarray.\n",
    "    vector = vector.detach().cpu().numpy()\n",
    "    return vector\n",
    " \n",
    "def create_vector_index(data: pd.DataFrame):\n",
    "  \n",
    "   # The list of all the vectors\n",
    "   vectors = []\n",
    "  \n",
    "   # Get overall text data\n",
    "   source_data = data.abstract.values\n",
    "  \n",
    "   # Loop over all the comment and get the embeddings\n",
    "   for text in tqdm(source_data):\n",
    "      \n",
    "       # Get the embedding\n",
    "       vector = create_vector_from_text(tokenizer, model, text)\n",
    "      \n",
    "       #add it to the list\n",
    "       vectors.append(vector)\n",
    "  \n",
    "   data[\"vectors\"] = vectors\n",
    "   data[\"vectors\"] = data[\"vectors\"].apply(lambda emb: np.array(emb))\n",
    "   data[\"vectors\"] = data[\"vectors\"].apply(lambda emb: emb.reshape(1, -1))\n",
    "   return data"
   ],
   "outputs": [
    {
     "name": "stderr",
     "output_type": "stream",
     "text": [
      "Some weights of BertForSequenceClassification were not initialized from the model checkpoint at bert-base-uncased and are newly initialized: ['classifier.bias', 'classifier.weight']\n",
      "You should probably TRAIN this model on a down-stream task to be able to use it for predictions and inference.\n"
     ]
    }
   ],
   "execution_count": 19
  },
  {
   "metadata": {
    "ExecuteTime": {
     "end_time": "2024-05-18T03:32:37.834043Z",
     "start_time": "2024-05-18T03:32:37.737297Z"
    }
   },
   "cell_type": "code",
   "source": [
    "landing_txt_path = \"../../../data_txt/files/\"\n",
    "data_list = []\n",
    "for filename in os.listdir(landing_txt_path):\n",
    "    if filename.endswith(\".txt\"):\n",
    "        with open(landing_txt_path + filename, \"r\") as file:\n",
    "            text = file.read().replace(\"\\n\", \" \")\n",
    "            text = re.sub(r'\\s+', ' ', text) # remove extra whitespaces\n",
    "        data_list.append({\"paper_id\": filename, \"abstract\": text})\n",
    "\n",
    "data_df = pd.DataFrame(data_list)\n",
    "data_df.head()"
   ],
   "id": "4232850b2b8fc0cd",
   "outputs": [
    {
     "data": {
      "text/plain": [
       "                                        paper_id  \\\n",
       "0                         TP_2_Weiss_Gonzalo.txt   \n",
       "1                               TP6-Gariglio.txt   \n",
       "2                 UTNMKT2016-MoraLeandro-TP4.txt   \n",
       "3    Tp2 Filannino marketing en internet (2).txt   \n",
       "4  TP4 - Comercio Electronico - Marina Pross.txt   \n",
       "\n",
       "                                            abstract  \n",
       "0   TRABAJO PRÁCTICO N°2 Curso: K5052 Profesor: A...  \n",
       "1  TP6 - Sistemas emergente 1) Cuáles son los 4 p...  \n",
       "2   Universidad Tecnológica Nacional Facultad Reg...  \n",
       "3   Materia: Marketing en internet TP: N°2 - La l...  \n",
       "4   UNIVERSIDAD TECNOLÓGICA NACIONAL Facultad Reg...  "
      ],
      "text/html": [
       "<div>\n",
       "<style scoped>\n",
       "    .dataframe tbody tr th:only-of-type {\n",
       "        vertical-align: middle;\n",
       "    }\n",
       "\n",
       "    .dataframe tbody tr th {\n",
       "        vertical-align: top;\n",
       "    }\n",
       "\n",
       "    .dataframe thead th {\n",
       "        text-align: right;\n",
       "    }\n",
       "</style>\n",
       "<table border=\"1\" class=\"dataframe\">\n",
       "  <thead>\n",
       "    <tr style=\"text-align: right;\">\n",
       "      <th></th>\n",
       "      <th>paper_id</th>\n",
       "      <th>abstract</th>\n",
       "    </tr>\n",
       "  </thead>\n",
       "  <tbody>\n",
       "    <tr>\n",
       "      <th>0</th>\n",
       "      <td>TP_2_Weiss_Gonzalo.txt</td>\n",
       "      <td>TRABAJO PRÁCTICO N°2 Curso: K5052 Profesor: A...</td>\n",
       "    </tr>\n",
       "    <tr>\n",
       "      <th>1</th>\n",
       "      <td>TP6-Gariglio.txt</td>\n",
       "      <td>TP6 - Sistemas emergente 1) Cuáles son los 4 p...</td>\n",
       "    </tr>\n",
       "    <tr>\n",
       "      <th>2</th>\n",
       "      <td>UTNMKT2016-MoraLeandro-TP4.txt</td>\n",
       "      <td>Universidad Tecnológica Nacional Facultad Reg...</td>\n",
       "    </tr>\n",
       "    <tr>\n",
       "      <th>3</th>\n",
       "      <td>Tp2 Filannino marketing en internet (2).txt</td>\n",
       "      <td>Materia: Marketing en internet TP: N°2 - La l...</td>\n",
       "    </tr>\n",
       "    <tr>\n",
       "      <th>4</th>\n",
       "      <td>TP4 - Comercio Electronico - Marina Pross.txt</td>\n",
       "      <td>UNIVERSIDAD TECNOLÓGICA NACIONAL Facultad Reg...</td>\n",
       "    </tr>\n",
       "  </tbody>\n",
       "</table>\n",
       "</div>"
      ]
     },
     "execution_count": 20,
     "metadata": {},
     "output_type": "execute_result"
    }
   ],
   "execution_count": 20
  },
  {
   "metadata": {
    "ExecuteTime": {
     "end_time": "2024-05-18T03:33:53.778402Z",
     "start_time": "2024-05-18T03:32:55.182602Z"
    }
   },
   "cell_type": "code",
   "source": [
    "vector_index = create_vector_index(data_df)\n",
    "vector_index.head()"
   ],
   "id": "f43b104c1e88a67c",
   "outputs": [
    {
     "name": "stderr",
     "output_type": "stream",
     "text": [
      "  0%|          | 0/296 [00:00<?, ?it/s]Truncation was not explicitly activated but `max_length` is provided a specific value, please use `truncation=True` to explicitly truncate examples to max length. Defaulting to 'longest_first' truncation strategy. If you encode pairs of sequences (GLUE-style) with the tokenizer you can select this strategy more precisely by providing a specific strategy to `truncation`.\n",
      "100%|██████████| 296/296 [00:58<00:00,  5.05it/s]\n"
     ]
    },
    {
     "data": {
      "text/plain": [
       "                                        paper_id  \\\n",
       "0                         TP_2_Weiss_Gonzalo.txt   \n",
       "1                               TP6-Gariglio.txt   \n",
       "2                 UTNMKT2016-MoraLeandro-TP4.txt   \n",
       "3    Tp2 Filannino marketing en internet (2).txt   \n",
       "4  TP4 - Comercio Electronico - Marina Pross.txt   \n",
       "\n",
       "                                            abstract  \\\n",
       "0   TRABAJO PRÁCTICO N°2 Curso: K5052 Profesor: A...   \n",
       "1  TP6 - Sistemas emergente 1) Cuáles son los 4 p...   \n",
       "2   Universidad Tecnológica Nacional Facultad Reg...   \n",
       "3   Materia: Marketing en internet TP: N°2 - La l...   \n",
       "4   UNIVERSIDAD TECNOLÓGICA NACIONAL Facultad Reg...   \n",
       "\n",
       "                                             vectors  \n",
       "0  [[-0.3493752, 0.0323844, 0.5065808, 0.3307109,...  \n",
       "1  [[-0.38969195, 0.21918297, 0.3831724, 0.573663...  \n",
       "2  [[-0.2442474, 0.28733182, 0.4294808, 0.4896812...  \n",
       "3  [[-0.23322998, 0.1330786, 0.5930347, 0.4986455...  \n",
       "4  [[-0.13734117, 0.114498906, 0.40366158, 0.1930...  "
      ],
      "text/html": [
       "<div>\n",
       "<style scoped>\n",
       "    .dataframe tbody tr th:only-of-type {\n",
       "        vertical-align: middle;\n",
       "    }\n",
       "\n",
       "    .dataframe tbody tr th {\n",
       "        vertical-align: top;\n",
       "    }\n",
       "\n",
       "    .dataframe thead th {\n",
       "        text-align: right;\n",
       "    }\n",
       "</style>\n",
       "<table border=\"1\" class=\"dataframe\">\n",
       "  <thead>\n",
       "    <tr style=\"text-align: right;\">\n",
       "      <th></th>\n",
       "      <th>paper_id</th>\n",
       "      <th>abstract</th>\n",
       "      <th>vectors</th>\n",
       "    </tr>\n",
       "  </thead>\n",
       "  <tbody>\n",
       "    <tr>\n",
       "      <th>0</th>\n",
       "      <td>TP_2_Weiss_Gonzalo.txt</td>\n",
       "      <td>TRABAJO PRÁCTICO N°2 Curso: K5052 Profesor: A...</td>\n",
       "      <td>[[-0.3493752, 0.0323844, 0.5065808, 0.3307109,...</td>\n",
       "    </tr>\n",
       "    <tr>\n",
       "      <th>1</th>\n",
       "      <td>TP6-Gariglio.txt</td>\n",
       "      <td>TP6 - Sistemas emergente 1) Cuáles son los 4 p...</td>\n",
       "      <td>[[-0.38969195, 0.21918297, 0.3831724, 0.573663...</td>\n",
       "    </tr>\n",
       "    <tr>\n",
       "      <th>2</th>\n",
       "      <td>UTNMKT2016-MoraLeandro-TP4.txt</td>\n",
       "      <td>Universidad Tecnológica Nacional Facultad Reg...</td>\n",
       "      <td>[[-0.2442474, 0.28733182, 0.4294808, 0.4896812...</td>\n",
       "    </tr>\n",
       "    <tr>\n",
       "      <th>3</th>\n",
       "      <td>Tp2 Filannino marketing en internet (2).txt</td>\n",
       "      <td>Materia: Marketing en internet TP: N°2 - La l...</td>\n",
       "      <td>[[-0.23322998, 0.1330786, 0.5930347, 0.4986455...</td>\n",
       "    </tr>\n",
       "    <tr>\n",
       "      <th>4</th>\n",
       "      <td>TP4 - Comercio Electronico - Marina Pross.txt</td>\n",
       "      <td>UNIVERSIDAD TECNOLÓGICA NACIONAL Facultad Reg...</td>\n",
       "      <td>[[-0.13734117, 0.114498906, 0.40366158, 0.1930...</td>\n",
       "    </tr>\n",
       "  </tbody>\n",
       "</table>\n",
       "</div>"
      ]
     },
     "execution_count": 21,
     "metadata": {},
     "output_type": "execute_result"
    }
   ],
   "execution_count": 21
  },
  {
   "metadata": {},
   "cell_type": "markdown",
   "source": "### Implement Plagiarism Analysis",
   "id": "3efb00b056ba3d7e"
  },
  {
   "metadata": {
    "ExecuteTime": {
     "end_time": "2024-05-18T03:35:33.320991Z",
     "start_time": "2024-05-18T03:35:33.312430Z"
    }
   },
   "cell_type": "code",
   "source": [
    "from sklearn.metrics.pairwise import cosine_similarity\n",
    "\n",
    "def process_document(text: str):\n",
    "  \"\"\"\n",
    "  Create a vector for given text and adjust it for cosine similarity search\n",
    "  \"\"\"\n",
    "  text_vect = create_vector_from_text(tokenizer, model, text)\n",
    "  text_vect = np.array(text_vect)\n",
    "  text_vect = text_vect.reshape(1, -1)\n",
    "  return text_vect\n",
    "\n",
    "def is_plagiarism(similarity_score, plagiarism_threshold):\n",
    "  is_plagiarism = False\n",
    "  if similarity_score >= plagiarism_threshold:\n",
    "      is_plagiarism = True\n",
    "  return is_plagiarism\n",
    " \n",
    "def run_plagiarism_analysis(query_text, data, plagiarism_threshold=0.8):\n",
    "  top_N=3\n",
    "\n",
    "  # Preprocess the document to get the required vector for similarity analysis\n",
    "  query_vect = process_document(query_text)\n",
    "\n",
    "  # Run similarity Search\n",
    "  data[\"similarity\"] = data[\"vectors\"].apply(lambda x: cosine_similarity(query_vect, x))\n",
    "  data[\"similarity\"] = data[\"similarity\"].apply(lambda x: x[0][0])\n",
    "  similar_articles = data.sort_values(by='similarity', ascending=False)[1:top_N+1]\n",
    "  formated_result = similar_articles[[\"abstract\", \"paper_id\", \"similarity\"]].reset_index(drop = True)\n",
    "  similarity_score = formated_result.iloc[0][\"similarity\"]\n",
    "  most_similar_article = formated_result.iloc[0][\"abstract\"]\n",
    "  is_plagiarism_bool = is_plagiarism(similarity_score, plagiarism_threshold)\n",
    "  \n",
    "  plagiarism_decision = {'similarity_score': similarity_score,\n",
    "                          'is_plagiarism': is_plagiarism_bool,\n",
    "                          'most_similar_article': most_similar_article,\n",
    "                          'article_submitted': query_text\n",
    "                          }\n",
    "  return plagiarism_decision"
   ],
   "id": "c06f9a85c974d341",
   "outputs": [],
   "execution_count": 22
  },
  {
   "metadata": {},
   "cell_type": "markdown",
   "source": "### Run Plagiarism Analysis",
   "id": "7e85306635328f5c"
  },
  {
   "metadata": {
    "ExecuteTime": {
     "end_time": "2024-05-18T03:37:21.062604Z",
     "start_time": "2024-05-18T03:37:20.683200Z"
    }
   },
   "cell_type": "code",
   "source": [
    "new_incoming_text_ptah = (\"../../../data_txt/files/Economía de experiencia.txt\")\n",
    "with open(new_incoming_text_ptah, \"r\") as file:\n",
    "    new_incoming_text = file.read().replace(\"\\n\", \" \")\n",
    "    new_incoming_text = re.sub(r'\\s+', ' ', new_incoming_text) # remove extra whitespaces\n",
    "\n",
    "plagiarism_decision = run_plagiarism_analysis(new_incoming_text, vector_index, plagiarism_threshold=0.8)"
   ],
   "id": "707a68e96141da9e",
   "outputs": [],
   "execution_count": 23
  },
  {
   "metadata": {
    "ExecuteTime": {
     "end_time": "2024-05-18T03:37:28.617254Z",
     "start_time": "2024-05-18T03:37:28.613414Z"
    }
   },
   "cell_type": "code",
   "source": "plagiarism_decision",
   "id": "9765317a7012e292",
   "outputs": [
    {
     "data": {
      "text/plain": [
       "{'similarity_score': 0.9999999,\n",
       " 'is_plagiarism': True,\n",
       " 'most_similar_article': ' Márketing en internet y nueva economía Economía de experiencia Profesores: Dr. Alejandro Prince Ing. Hernán Borré Ing. Maximiliano Bracho Alumno: Gallazzi, Pablo Gabriel 143.370-2 Fecha de Presentación 10/04/2017 Cuestionario: 1.- ¿Qué 3 elementos hacen resurgir con fuerza la idea de una economía de experiencia? 2.- Defina y caracterice una experiencia. Diferencias con Producto y Servicio. 3.- Explique y grafique las dimensiones y campos de la experiencia. 4.- Describa “impresiones” y sus distintas dimensiones. 5.- De 3 ejemplos distintos (reales si conoce, o invente) de experiencias con estimulación de los sentidos. 6.- Qué es la personalización masiva? Explique la progresión del valor. 7.- Cuáles son las ventajas para la empresa de la personalización masiva? 8.- Describa los 4 tipos de personalización masiva. 9.- ¿Qué aporta el ciberespacio al tema “sacrificio del cliente”? Respuestas: 1.- Los tres elementos son: ● El poder de la tecnología que actúa como facilitador. ● La creciente intensidad de la competencia que hace que se tengan que diferenciar. ● La prosperidad, es decir, hoy en día se busca menos rutina, más sorpresas (experiencias) 2.- Cuando hablamos del producto nos referimos a, por ejemplo, una taza, un café, etc… Si nos referimos a un servicio hablamos de un conjunto de actividades es decir algo customizado para el cliente, pero cuando hablamos de una experiencia nos referimos a algo más, pagamos para disfrutar de una serie de eventos acondicionados para atraparnos y gozar de una manera distinta que solo comprar el producto o adquirir el servicio. De hecho se usan los productos y servicios como herramientas para lograr entretener a los clientes. 3.- Dimensiones: ● Grado de participación que puede ser pasiva (el cliente es un observador) o activa (tiene como protagonista al cliente) ● Conexión cliente-evento que puede ir desde la atención o absorción hasta la inmersión física o virtual. Estas dimensiones se cruzan generando los cuatro campos: ● Entretenimiento: La persona pasivamente absorbe lo que lo que ocurre a través de sus sentidos. ● Educación: Alcanza con la atención por parte de la persona, pero requiere participación activa de la misma. ● Estética: El individuo se sumerge pero no participa. ● Escapismo: Máxima inmersión y protagonismo absoluto. 4.- Cuando nos referimos a impresiones, hablamos de lo que se lleva el cliente de la experiencia vivida, es decir, los recuerdos. Las dimensiones son: ● Tiempo: Tradicionales, contemporáneas o futuristas. ● Espacio: ¿Donde se desarrollan? En el hogar, en el trabajo, interiores, exteriores, etc… ● Tecnología: Vanguardia, artesanales, naturales o artificiales. ● Autenticidad: Originales o imitaciones. ● Sofisticación: Nivel de refinamiento o lujo. ● Escala: Grandioso, sencillo o pequeño. 5.- Algunos ejemplo pueden ser Disney, Las Vegas, Starbucks, Restaurantes temáticos, Juegos Mentales (solojuegosmentales.com) y así podemos mencionar muchos otros. 6.- La personalización masiva, se trata de atender a los clientes de una forma única, combinando los imperativos vigentes de bajo costo y la individualización que requiere el mercado. Se trata de lograr lo mejor de ambas partes, masividad y personalización. En un principio surgió la economía de las “commodities” (animales, minerales, vegetales etc...) Cuando a esas “commodities” se las empezó a usar como materia prima de productos, pasamos de una economía agraria a una industrial. El problema es que con el tiempo se dió un proceso de comoditización y el producto se convirtió en “commoditie”. El antídoto para eso es la personalización, y pasamos a una economía de servicios y con el tiempo se volvió a producir el proceso de comoditización. Si otra vez aplicamos un proceso de personalización pasamos a la economía de la experiencia. Cuanto más personalizado se haga, más alto es el precio al que se puede vender. A esto Joseph Pine lo llama la progresión del valor. 7.- Las ventajas para la empresa son varias, mejorar los precios, mayor ingreso por cliente, menor necesidad de hacer descuentos, más retención, y adquisición de clientes por un costo más bajo. 8.- Los cuatro tipos son: ● Personalización colaborativa o experiencia exploratoria: La empresa interactúa directamente con el cliente, el producto final surge del trabajo conjunto. Primero se modifica la representación y luego el producto. ● Personalización adaptativa o experiencia real: En esta no cambia ni el producto ni la representación, sino que a partir de varias opciones el cliente cambia alguna funcionalidad (las opciones ya están incluidas en la oferta). ● Personalización cosmética o experiencia gratificante: Customizar la representación, el producto se siente como diseñado para uno. ● Personalización transparente o experiencia elusiva: El cliente ya recibe una oferta a medida y no se entera explícitamente del proceso de personalización 9.- El ciberespacio es un excelente medio para evaluar el nivel de sacrificio (brecha entre lo que el cliente realmente quiere y lo que termina aceptando). Por ejemplo el email. Además potencia el marketing uno a uno y el aprendizaje contínuo de las necesidades y gustos del cliente por parte de la empresa. ',\n",
       " 'article_submitted': ' Márketing en internet y nueva economía Economía de experiencia Profesores: Dr. Alejandro Prince Ing. Hernán Borré Ing. Maximiliano Bracho Alumno: Gallazzi, Pablo Gabriel 143.370-2 Fecha de Presentación 10/04/2017 Cuestionario: 1.- ¿Qué 3 elementos hacen resurgir con fuerza la idea de una economía de experiencia? 2.- Defina y caracterice una experiencia. Diferencias con Producto y Servicio. 3.- Explique y grafique las dimensiones y campos de la experiencia. 4.- Describa “impresiones” y sus distintas dimensiones. 5.- De 3 ejemplos distintos (reales si conoce, o invente) de experiencias con estimulación de los sentidos. 6.- Qué es la personalización masiva? Explique la progresión del valor. 7.- Cuáles son las ventajas para la empresa de la personalización masiva? 8.- Describa los 4 tipos de personalización masiva. 9.- ¿Qué aporta el ciberespacio al tema “sacrificio del cliente”? Respuestas: 1.- Los tres elementos son: ● El poder de la tecnología que actúa como facilitador. ● La creciente intensidad de la competencia que hace que se tengan que diferenciar. ● La prosperidad, es decir, hoy en día se busca menos rutina, más sorpresas (experiencias) 2.- Cuando hablamos del producto nos referimos a, por ejemplo, una taza, un café, etc… Si nos referimos a un servicio hablamos de un conjunto de actividades es decir algo customizado para el cliente, pero cuando hablamos de una experiencia nos referimos a algo más, pagamos para disfrutar de una serie de eventos acondicionados para atraparnos y gozar de una manera distinta que solo comprar el producto o adquirir el servicio. De hecho se usan los productos y servicios como herramientas para lograr entretener a los clientes. 3.- Dimensiones: ● Grado de participación que puede ser pasiva (el cliente es un observador) o activa (tiene como protagonista al cliente) ● Conexión cliente-evento que puede ir desde la atención o absorción hasta la inmersión física o virtual. Estas dimensiones se cruzan generando los cuatro campos: ● Entretenimiento: La persona pasivamente absorbe lo que lo que ocurre a través de sus sentidos. ● Educación: Alcanza con la atención por parte de la persona, pero requiere participación activa de la misma. ● Estética: El individuo se sumerge pero no participa. ● Escapismo: Máxima inmersión y protagonismo absoluto. 4.- Cuando nos referimos a impresiones, hablamos de lo que se lleva el cliente de la experiencia vivida, es decir, los recuerdos. Las dimensiones son: ● Tiempo: Tradicionales, contemporáneas o futuristas. ● Espacio: ¿Donde se desarrollan? En el hogar, en el trabajo, interiores, exteriores, etc… ● Tecnología: Vanguardia, artesanales, naturales o artificiales. ● Autenticidad: Originales o imitaciones. ● Sofisticación: Nivel de refinamiento o lujo. ● Escala: Grandioso, sencillo o pequeño. 5.- Algunos ejemplo pueden ser Disney, Las Vegas, Starbucks, Restaurantes temáticos, Juegos Mentales (solojuegosmentales.com) y así podemos mencionar muchos otros. 6.- La personalización masiva, se trata de atender a los clientes de una forma única, combinando los imperativos vigentes de bajo costo y la individualización que requiere el mercado. Se trata de lograr lo mejor de ambas partes, masividad y personalización. En un principio surgió la economía de las “commodities” (animales, minerales, vegetales etc...) Cuando a esas “commodities” se las empezó a usar como materia prima de productos, pasamos de una economía agraria a una industrial. El problema es que con el tiempo se dió un proceso de comoditización y el producto se convirtió en “commoditie”. El antídoto para eso es la personalización, y pasamos a una economía de servicios y con el tiempo se volvió a producir el proceso de comoditización. Si otra vez aplicamos un proceso de personalización pasamos a la economía de la experiencia. Cuanto más personalizado se haga, más alto es el precio al que se puede vender. A esto Joseph Pine lo llama la progresión del valor. 7.- Las ventajas para la empresa son varias, mejorar los precios, mayor ingreso por cliente, menor necesidad de hacer descuentos, más retención, y adquisición de clientes por un costo más bajo. 8.- Los cuatro tipos son: ● Personalización colaborativa o experiencia exploratoria: La empresa interactúa directamente con el cliente, el producto final surge del trabajo conjunto. Primero se modifica la representación y luego el producto. ● Personalización adaptativa o experiencia real: En esta no cambia ni el producto ni la representación, sino que a partir de varias opciones el cliente cambia alguna funcionalidad (las opciones ya están incluidas en la oferta). ● Personalización cosmética o experiencia gratificante: Customizar la representación, el producto se siente como diseñado para uno. ● Personalización transparente o experiencia elusiva: El cliente ya recibe una oferta a medida y no se entera explícitamente del proceso de personalización 9.- El ciberespacio es un excelente medio para evaluar el nivel de sacrificio (brecha entre lo que el cliente realmente quiere y lo que termina aceptando). Por ejemplo el email. Además potencia el marketing uno a uno y el aprendizaje contínuo de las necesidades y gustos del cliente por parte de la empresa. '}"
      ]
     },
     "execution_count": 24,
     "metadata": {},
     "output_type": "execute_result"
    }
   ],
   "execution_count": 24
  },
  {
   "metadata": {
    "ExecuteTime": {
     "end_time": "2024-05-18T03:39:05.835657Z",
     "start_time": "2024-05-18T03:39:05.488676Z"
    }
   },
   "cell_type": "code",
   "source": [
    "another_incoming_text = \"The purpose of this study is to investigate the relationship between the level of education and the level of income in the United States. The study uses data from the U.S. Census Bureau to examine the relationship between education and income. The results show that there is a positive relationship between education and income. People with higher levels of education tend to earn more money than people with lower levels of education. The study also finds that the relationship between education and income is stronger for\"\n",
    "\n",
    "plagiarism_decision = run_plagiarism_analysis(another_incoming_text, vector_index, plagiarism_threshold=0.8)"
   ],
   "id": "f64f6edcc8d8963d",
   "outputs": [],
   "execution_count": 25
  },
  {
   "metadata": {
    "ExecuteTime": {
     "end_time": "2024-05-18T03:39:08.370056Z",
     "start_time": "2024-05-18T03:39:08.366470Z"
    }
   },
   "cell_type": "code",
   "source": "plagiarism_decision",
   "id": "b4a5744c35afc8c2",
   "outputs": [
    {
     "data": {
      "text/plain": [
       "{'similarity_score': 0.6034411,\n",
       " 'is_plagiarism': False,\n",
       " 'most_similar_article': 'MMAARRCCEELLOO BBRROOSSII 111155..220033--88 Curso K50 52 Página 1 de 5 MMaarrkkeettiinngg eenn IInntteerrnneett yy NNuueevvaa EEccoonnoommííaa -- 11eerr CCUUAATTRRIIMMEESSTTRREE 22001177 -- PPRROOFFEESSOORR:: AAlleejjaannddrroo PPrriinnccee AAYYUUDDAANNTTEESS:: HHeerrnnáánn BBoorrrréé –– MMaaxxiimmiilliiaannoo BBrraacchhoo AALLUUMMNNOO:: MMaarrcceelloo BBrroossii LLEEGGAAJJOO:: 111155..220033--88 3 de abril 2017 Trabajo Práctico Nº 2 ““LLaa LLaarrggaa CCoollaa”” MMAARRCCEELLOO BBRROOSSII 111155..220033--88 Curso K50 52 Página 2 de 5 Contenidos ¿CÓMO DEFINE ANDERSO N A “LA LARGA COLA”? ¿POR QUÉ ASEGURA QUE ES EL PRESENTE Y FUTURO DE LA ECONOMÍA MINORIST A? GRAFIQUE . ................................ ...... 3 DEFINA ECONOMÍA DE E SCASEZ. ¿CÓMO INFLUY E INTERNET EN ESTE C ONCEPTO? .... 3 RELACIONE LOS TÉRMIN OS: PRINCIPIO DE PAR ETO, ECONOMÍA DE MAS AS Y LARGA COLA . ................................ ................................ ................................ ................................ .......................... 4 ¿POR QUÉ LAS TIENDAS ONLINE QUE BASAN SU ESTRATEGIA EN LARGA COLA IGUALMENTE NECESITAN OFRECER “HITS” A SUS CLIENTES? ................................ ............... 4 DÉ 4 EJEMPLOS INTERN ACIONALES O NACIONAL ES DE EMPRESAS (PROD UCTOS O SERVICIOS) QUE BASEN SU MODELO ECONÓMICO EN LA LARGA COLA . ............................. 4 ¿CUÁLES SON LAS 3 FU ERZAS O PRINCIPIOS EN LOS QUE SE BASA L A LARGA COLA? .. 5 ¿CUÁLES SON LAS PRIN CIPALES REGLAS DE LA LARGA COLA? DESCRÍBA LAS BREVEMENTE . ................................ ................................ ................................ ................................ ......... 5 MMAARRCCEELLOO BBRROOSSII 111155..220033--88 Curso K50 52 Página 3 de 5 RESPUESTAS ¿Cómo define Anderson a “La larga cola”? ¿Por qué asegura que es el presente y futuro de la economía minorista? Grafique . Según Anderson, el conjunto de los productos qué poseen una baja demanda o un bajo nivel de ventas constituyen colectivamente una porción del mercado qué puede competir e incluso superar al pequeño número de productos qué constituyen los “más vendidos” (b est sellers) o éxitos en ventas (blockbusters), siempre y cuando el negocio y el canal de distribución sean lo suficientemente grandes. Si en el eje vertical se tiene la popularidad del producto y en el eje horizontal se tiene el producto en sí, se hace ev idente la presencia de la “larga cola”: La aplicación exitosa de bajos costos actuales de distribución e inventario en los negocios en un contexto de larga cola, les permite explotar altos márgenes de ganancia al vender productos difíciles de encontrar p ero a muchos clientes en vez de solo vender los productos populares. Las ventas totales de estos productos no tan populares son lo qué se denomina la larga cola. El advenimiento de las ventas por internet ha permitido y facilitado la explotación de este ni cho del mercado. Mientras qué los vendedores tradicionales (negocios a la calle o cadenas de ventas minoristas) se han enfocado en la cabeza (sector izquierdo del gráfico, los hits), la venta por internet consigue más ventas a partir del área de la derecha . Defina economía de escasez. ¿Cómo influye Internet en este concepto? La economía de la escasez es una situación en la qué se producen faltas sistemáticas de un producto dado. Esta falta no necesariamente implica qué ese producto no está siendo produci do sino qué también podría significar qué el bien demandado excede la oferta ofrecida a un determinado precio. Esto viene dado por qué los productores enfocan sus esfuerzos en un determinado sector del mercado, de manera tal qué son los consumidores MMAARRCCEELLOO BBRROOSSII 111155..220033--88 Curso K50 52 Página 4 de 5 quiene s tienen qué adaptarse al producto ofrecido, dado que la oferta (y su cantidad) es baja y no hay alternativas. La oferta está restringida por los productores. Internet logra derrocar este concepto de “escasez” al facilitar la oferta y la variedad de la misma. Internet en cierta forma logra conectar a la oferta con la demanda, sin los productores como intermediarios, para pasar de un mercado de masas (hits) a un mercado de nichos (no hits). Relacione los términos: Principio de Pareto, Economía de masas y Larga Cola . Tradicionalmente, bajo una economía de masas, los productores se enfocaron en satisfacer la demanda de la gran mayoría del mercado. Esta mayoría se encontraba regida por la Ley de Pareto o ley del 80/20, en donde un 20% de los productos ofrecidos sa tisfacían a un 80% de los clientes. Esta concentración hacia el 20% de los productos venía dada por limitaciones físicas y temporales qué tenían los productos (ejemplos: en una vidriera solo hay espacio para mostrar en exhibición un n úmero finito de produ ctos). La llegada de internet logró romper esta limitación temporal y física, transformando a la economía de masas (Pareto) en un mercado de nichos (Larga cola), donde por primera vez en una sociedad de consumo, la venta de pequeñas cantidades (nichos) es rentable. Para los productores de contenido o productos es más rentable enfocarse en el 80% restante del mercado. ¿Por qué las tiendas online que basan su estrategia en Larga Cola igualmente necesitan ofrecer “Hits” a sus clientes? Si bien el panorama está cambiando y orientándose hacia los nichos, todavía vivimos en una sociedad obsesionada con los grandes éxitos (hits). Seguimos elaborando y seguimos con atención las listas de libros más vendidos, las películas más taquilleras o lo s índices de audiencia de los programas de televisión. Los negocios qué logren conseguir un “hit” podrán seguir disfrutando de las ganancias qué los mismos implican, dando qué siguen siendo rentables ahora, como lo eran antes. Dé 4 ejemplos internacionale s o nacionales de empresas (productos o servicios) que basen su modelo económico en La Larga Cola . Amazon tiene un catálogo de más de dos millones de libros, mientras que su competencia en el mundo físico, como mucho alcanza los 130.000 ejemplares. Netflix tiene 25.000 películas y su rival offline 3.000. Spotify tiene más de 30 millones de canciones en su inventario. Steam (como otras plataformas de juegos) posee más de 7.000 en su catálogo . MMAARRCCEELLOO BBRROOSSII 111155..220033--88 Curso K50 52 Página 5 de 5 ¿Cuáles son las 3 fuerzas o principio s en los que se basa la Larga Cola? Los 3 principios en los qué se basa la larga cola son: ● Democratización de la oferta: Todos los productos se encuentran ofrecidos en igualdad de condiciones, ninguno por encima del otro. ● Democratizaci ón de la producción: La producción de los bienes no se encuentra concentrada en centros de producción sino qué más bien, todos podemos producir bienes o contenidos qué tenga acceso al mercado. ● Conexión de la oferta y la demanda: Mediante la venta a través de las plataformas online, la demanda accede a la oferta sin intermediarios. ¿Cuáles son las principales reglas de la Larga Cola? Descríbalas brevemente . Regla 1: Tener un inventario digital - Esta regla implica transferir los costos de mantener un inventario a los proveedores. Un buen ejemplo es Amazon Marketplace cuyos productos son llevados por miles de comercios más pequeños, implicando un costo igual a cero para Amazon. Regla 2: Dejar qu é los clientes hagan el trabajo - Ayudar a qué los clientes hagan \"crowdsourcing\", es decir, escribir opiniones, armar rankings, o el mismo contenido. Esta regla se basa en qué de manera conjunta, los clientes tiene virtualmente energía y tiempo ilimitados . Regla 3 - No existe un método de distribución para todo - Los mercados de larga cola deben trascender el tiempo y el espacio, por lo qué no deben estar atados a un tipo de distribución de productos en particular. No importa si los clientes compran onlin e o si van personalmente al negocio, se debe poder atender todos los canales. Regla 4 - No hay un producto para todos - El cliente debe poder consumir el producto ofrecido de la manera qué él desee. Regla 5 - No hay un precio único para todos - El precio d ebe ser flexible, dado que los clientes están dispuestos a pagar distintas sumas de dinero según diversas variables o factores externos. Regla 6 - Compartir información - Publicar información en lo referente a patrones de compra (ejemplo, ranking de más vendidos) de manera de qué los clientes adquieran confianza y darles transparencia. Regla 7 - Pensar en una cosa Y en otra, no en una cosa u otra - Ampliar las opciones ayuda a combatir la escasez. Regla 8 - Deje qué el mercado haga su trabajo . - Dejar qué los clientes hagan el trabajo, tal como lo indica la regla 2. Regla 9 - Reconocer la fuerza de la gratuidad - Dado qué en un mercado digital los costes son casi cero, los precios también pueden serlo. Un servicio gratuito puede atraer un número muy grand e de clientes. ',\n",
       " 'article_submitted': 'The purpose of this study is to investigate the relationship between the level of education and the level of income in the United States. The study uses data from the U.S. Census Bureau to examine the relationship between education and income. The results show that there is a positive relationship between education and income. People with higher levels of education tend to earn more money than people with lower levels of education. The study also finds that the relationship between education and income is stronger for'}"
      ]
     },
     "execution_count": 26,
     "metadata": {},
     "output_type": "execute_result"
    }
   ],
   "execution_count": 26
  },
  {
   "metadata": {},
   "cell_type": "code",
   "outputs": [],
   "execution_count": null,
   "source": "",
   "id": "3b9af0e7253b3a70"
  }
 ],
 "metadata": {
  "kernelspec": {
   "display_name": "Python 3",
   "language": "python",
   "name": "python3"
  },
  "language_info": {
   "codemirror_mode": {
    "name": "ipython",
    "version": 2
   },
   "file_extension": ".py",
   "mimetype": "text/x-python",
   "name": "python",
   "nbconvert_exporter": "python",
   "pygments_lexer": "ipython2",
   "version": "2.7.6"
  }
 },
 "nbformat": 4,
 "nbformat_minor": 5
}
