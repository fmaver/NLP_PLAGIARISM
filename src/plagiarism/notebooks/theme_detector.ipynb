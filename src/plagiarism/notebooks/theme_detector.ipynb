{
 "cells": [
  {
   "metadata": {},
   "cell_type": "markdown",
   "source": "### Actual Documents with theme:",
   "id": "9369194f7d395e8c"
  },
  {
   "metadata": {
    "ExecuteTime": {
     "end_time": "2024-05-27T00:43:17.811124Z",
     "start_time": "2024-05-27T00:43:16.262595Z"
    }
   },
   "cell_type": "code",
   "source": [
    "from sklearn.feature_extraction.text import TfidfVectorizer\n",
    "from sklearn.model_selection import train_test_split\n",
    "from sklearn.svm import SVC\n",
    "from sklearn.metrics import classification_report\n",
    "import os\n",
    "import pandas as pd\n",
    "\n",
    "txt_path = \"/Users/franciscomaver/PycharmProjects/NLP_PLAGIARISM/data_txt/files\"\n",
    "txt_files = os.listdir(txt_path)\n",
    "\n",
    "training_path = \"/Users/franciscomaver/PycharmProjects/NLP_PLAGIARISM/data/training.csv\"\n",
    "# read csv and keep all _ids\n",
    "training_files = pd.read_csv(training_path)\n",
    "docs_names = training_files[\"_id\"].tolist()\n",
    "\n",
    "rest_docs = [doc for doc in txt_files if doc not in docs_names]\n",
    "\n",
    "print(len(txt_files))\n",
    "print(len(docs_names))\n",
    "print(len(rest_docs))"
   ],
   "id": "11480d909e917e6f",
   "outputs": [
    {
     "name": "stdout",
     "output_type": "stream",
     "text": [
      "177\n",
      "201\n",
      "0\n"
     ]
    }
   ],
   "execution_count": 2
  },
  {
   "metadata": {
    "ExecuteTime": {
     "end_time": "2024-05-27T01:00:29.322843Z",
     "start_time": "2024-05-27T01:00:29.241407Z"
    }
   },
   "cell_type": "code",
   "source": [
    "path = \"/Users/franciscomaver/PycharmProjects/NLP_PLAGIARISM/data/training.csv\"\n",
    "df = pd.read_csv(path)\n",
    "print(f\"Data loaded successfully. Detected {len(df)} rows.\")\n",
    "print(\"Step 2. Preprocessing the data...\")\n",
    "# create train and test set\n",
    "# Drop rows with missing values in the 'content' column\n",
    "df = df.dropna(subset=['content'])\n",
    "\n",
    "# Split the dataset into train and test sets\n",
    "train, test = train_test_split(df, test_size=0.33, random_state=42)\n",
    "# Convert to list\n",
    "content_list = train[\"content\"].tolist()\n",
    "# Fill the missing values in the 'topic' column if needed\n",
    "train['topic'].fillna(value='unknown', inplace=True)\n",
    "\n",
    "# Fit the model\n",
    "vectorizer = TfidfVectorizer(max_features=1000)\n",
    "X = vectorizer.fit_transform(content_list)\n",
    "y = train[\"topic\"].tolist()\n"
   ],
   "id": "7d6aceb2499c67ef",
   "outputs": [
    {
     "name": "stdout",
     "output_type": "stream",
     "text": [
      "Data loaded successfully. Detected 201 rows.\n",
      "Step 2. Preprocessing the data...\n"
     ]
    },
    {
     "name": "stderr",
     "output_type": "stream",
     "text": [
      "/var/folders/n7/q7zcbzwd06x1qywn2j98x0y40000gn/T/ipykernel_13949/2751783022.py:14: FutureWarning: A value is trying to be set on a copy of a DataFrame or Series through chained assignment using an inplace method.\n",
      "The behavior will change in pandas 3.0. This inplace method will never work because the intermediate object on which we are setting values always behaves as a copy.\n",
      "\n",
      "For example, when doing 'df[col].method(value, inplace=True)', try using 'df.method({col: value}, inplace=True)' or df[col] = df[col].method(value) instead, to perform the operation inplace on the original object.\n",
      "\n",
      "\n",
      "  train['topic'].fillna(value='unknown', inplace=True)\n"
     ]
    }
   ],
   "execution_count": 11
  },
  {
   "metadata": {
    "ExecuteTime": {
     "end_time": "2024-05-27T01:00:36.854299Z",
     "start_time": "2024-05-27T01:00:36.829478Z"
    }
   },
   "cell_type": "code",
   "source": [
    "# Step 4: Model Selection and Training\n",
    "X_train, X_test, y_train, y_test = train_test_split(X, y, test_size=0.2, random_state=42)\n",
    "model = SVC(kernel='linear')\n",
    "model.fit(X_train, y_train)\n",
    "\n",
    "# Step 5: Model Evaluation\n",
    "y_pred = model.predict(X_test)\n",
    "print(classification_report(y_test, y_pred))"
   ],
   "id": "e3cded0e8a90ea60",
   "outputs": [
    {
     "name": "stdout",
     "output_type": "stream",
     "text": [
      "                            precision    recall  f1-score   support\n",
      "\n",
      "          Economia Digital       1.00      0.86      0.92         7\n",
      "Economia de la Experiencia       1.00      1.00      1.00         4\n",
      "                Innovacion       0.88      1.00      0.93         7\n",
      "       Sistemas Emergentes       0.89      0.89      0.89         9\n",
      "\n",
      "                  accuracy                           0.93        27\n",
      "                 macro avg       0.94      0.94      0.94        27\n",
      "              weighted avg       0.93      0.93      0.93        27\n",
      "\n"
     ]
    }
   ],
   "execution_count": 12
  },
  {
   "metadata": {
    "ExecuteTime": {
     "end_time": "2024-05-27T00:49:17.682971Z",
     "start_time": "2024-05-27T00:49:17.675235Z"
    }
   },
   "cell_type": "code",
   "source": [
    "emerging_systems_text = \"\"\"\n",
    "MARKETING EN INTERNET Y NUEVA ECONOMIA\n",
    "TP 6: Sistemas Emergentes\n",
    "Profesor: Prince, Alejandro\n",
    "Alumno: Spadafora, Franco Luciano\n",
    "Legajo: 138332-2\n",
    "\n",
    "PREGUNTAS TP \n",
    "Steven Johnson - Sistemas emergentes\n",
    "\n",
    "1)\tCuáles son los 4 principios centrales del estudio de los sistemas emergentes?\n",
    "Interacción de vecinos\n",
    "Reconocimiento de patrones\n",
    "Retroalimentación\n",
    "Control indirecto.\n",
    "\n",
    "2)\tDescriba en no más de 10 renglones la particular conducta del Dictiostellum y sus implicancias.\n",
    "El moho de fango oscila entre ser una única criatura y una colonia. Si las condiciones climáticas cambian y el tiempo se vuelve más húmedo y frío, puede ocurrir que regresen al mismo sitio y comprueben que ha desaparecido por completo.\n",
    "El moho de fango pasa buena parte de su vida como miles de\n",
    "Organismos unicelulares distintos; cada uno se mueve independientemente  de sus otros compañeros. Bajo las condiciones adecuadas se producirá la coalescencia de esas miríadas de células en un solo organismo mayor que comienza a reptar pausadamente por el suelo del jardín consumiendo a su paso hojas y cortezas en descomposición. Cuando el entorno es menos favorable, el moho de fango se comporta como un organismo aislado; cuando el tiempo es más frío y el moho dispone de una cantidad de alimento mayor, \"él\" se transforma en “ellos”.\n",
    "\n",
    "3)\tQué es la morfogénesis, quién desarrolló esta idea en 1954?\n",
    "Turing publicó antes de su muerte, en 1954, trataba de la \"morfogénesis\", la capacidad de todas las formas, de vida de desarrollar cuerpos cada vez más complejos a partir de orígenes increíblemente simples. El trabajo de Turing se centraba en la recurrencia de los patrones numéricos de las flores,6 pero usando\n",
    "Herramientas matemáticas demostraba cómo un organismo complejo podía desarrollarse sin ninguna dirección o plan maestro.\n",
    "Es el proceso biológico que lleva a que un organismo desarrolle su forma. Este es uno de los tres aspectos fundamentales del desarrollo biológico junto con el control del crecimiento celular y la diferenciación celular.\n",
    "\n",
    "Este proceso controla la distribución espacial organizada de las células durante el desarrollo embrionario de un organismo. La morfogénesis también puede tener lugar en un organismo maduro, en un cultivo de células o dentro de un tumor celular. La morfogénesis asimismo, describe el desarrollo de formas de vida unicelular que no atraviesan por una etapa embrionaria en sus ciclos de vida, o describe la evolución de una estructura corporal dentro de un grupo taxonómico.\n",
    "\n",
    "Las respuestas morfogenéticas podrían ser inducidas en los organismos por las hormonas endógenas, por químicos en el ambiente que van desde sustancias producidas por otros organismos hasta químicos tóxicos y radioisótopos liberados como contaminantes, o por el estrés mecánico inducido por un patrón espacial de células.\n",
    "\n",
    "4)\tDescriba los conceptos o conductas “adaptativas” y “complejas”.  Describa sistema ascendente y sistema dinámico.\n",
    "Son sistemas ascendentes,  Extraen su inteligencia de la base. En un lenguaje más técnico, son sistemas complejos de adaptación que despliegan comportamientos emergentes.13 En estos sistemas, los agentes que residen en una escala comienzan a producir comportamientos que yacen en una escala superior a la suya: las hormigas crean colonias, los habitantes de una ciudad crean barrios, un software de reconocimiento de patrón simple aprende a recomendar libros. La\n",
    "Evolución de reglas simples a complejas es lo que llamamos \"emergencia\".\n",
    "\n",
    "Comportamiento complejo: un sistema con agentes múltiples que interactúan en forma dinámica de múltiples maneras, siguiendo reglas locales e independientes de cualquier instrucción de un nivel superior. Sin embargo, este sistema no sería considerado emergente si las interacciones locales no fueran, en alguna forma, de macroconducta observable.\n",
    "\n",
    "5)\tDescriba un sistema emergente o auto organizativo y diferéncielo de un sistema evolutivo o del caos. \n",
    "Un sistema es auto-organizable cuando cambia su estructura básica como una función de su experiencia y ambiente, por ejemplo en la red Internet los agentes más simples pueden operar en situaciones imprevistas y adaptarse para cambiar condiciones.\n",
    "Los sistemas complejos se caracterizan fundamentalmente porque su comportamiento es imprevisible, la interacción entre sus elementos es local y origina un comportamiento emergente que no puede explicarse a partir de dichos elementos tomados aisladamente, es muy difícil predecir su evolución dinámica futura; o sea, es prácticamente imposible vaticinar lo que ocurrirá más allá de un cierto horizonte temporal.\n",
    "\"\"\"\n",
    "\n",
    "# Should be 'Emerging Systems'\n",
    "print(model.predict(vectorizer.transform([emerging_systems_text])))\n"
   ],
   "id": "79af2e1cc1a09233",
   "outputs": [
    {
     "name": "stdout",
     "output_type": "stream",
     "text": [
      "['Sistemas Emergentes']\n"
     ]
    }
   ],
   "execution_count": 10
  },
  {
   "metadata": {},
   "cell_type": "markdown",
   "source": "### Save the model using joblib",
   "id": "44934c15bf59e2a8"
  },
  {
   "metadata": {
    "ExecuteTime": {
     "end_time": "2024-05-27T01:11:50.049982Z",
     "start_time": "2024-05-27T01:11:48.836991Z"
    }
   },
   "cell_type": "code",
   "source": [
    "import spacy\n",
    "from plagiarism.adapters.assignment_reader import SklearnTopicPredictor\n",
    "import joblib\n",
    "\n",
    "upper_dir = \"/Users/franciscomaver/PycharmProjects/NLP_PLAGIARISM\"\n",
    "\n",
    "print(\"Step 3. Loading spaCy...\")\n",
    "nlp = spacy.load(\"es_core_news_lg\")\n",
    "topic_predictor = SklearnTopicPredictor(nlp=nlp, download=False)\n",
    "topic_predictor.pipeline.fit(content_list, train[\"topic\"].tolist())\n",
    "\n",
    "# save the model\n",
    "print(\"Step 4. Saving the model...\")\n",
    "model_path = os.path.join(upper_dir, \"models\", \"topic_predictor_dev.joblib\")\n",
    "joblib.dump(topic_predictor.pipeline, model_path)\n",
    "print(f\"Model trained and saved at: {model_path}\")"
   ],
   "id": "af876b3ac966ac8",
   "outputs": [
    {
     "name": "stdout",
     "output_type": "stream",
     "text": [
      "Step 3. Loading spaCy...\n",
      "Step 4. Saving the model...\n",
      "Model trained and saved at: /Users/franciscomaver/PycharmProjects/NLP_PLAGIARISM/models/topic_predictor_dev.joblib\n"
     ]
    }
   ],
   "execution_count": 16
  },
  {
   "metadata": {},
   "cell_type": "markdown",
   "source": "## Test the joblib model",
   "id": "578337b64113f438"
  },
  {
   "metadata": {},
   "cell_type": "markdown",
   "source": "",
   "id": "e71f651f08a64c75"
  },
  {
   "metadata": {
    "ExecuteTime": {
     "end_time": "2024-05-27T01:16:24.371746Z",
     "start_time": "2024-05-27T01:16:24.353165Z"
    }
   },
   "cell_type": "code",
   "source": [
    "loaded_pipe = joblib.load('/Users/franciscomaver/PycharmProjects/NLP_PLAGIARISM/models/topic_predictor_dev.joblib')\n",
    "\n",
    "loaded_pipe.predict([emerging_systems_text])[0]"
   ],
   "id": "754f11e0d6aafbd3",
   "outputs": [
    {
     "data": {
      "text/plain": [
       "'Sistemas Emergentes'"
      ]
     },
     "execution_count": 18,
     "metadata": {},
     "output_type": "execute_result"
    }
   ],
   "execution_count": 18
  },
  {
   "metadata": {},
   "cell_type": "code",
   "outputs": [],
   "execution_count": null,
   "source": "",
   "id": "7853dceb1b9d6df"
  }
 ],
 "metadata": {
  "kernelspec": {
   "display_name": "Python 3",
   "language": "python",
   "name": "python3"
  },
  "language_info": {
   "codemirror_mode": {
    "name": "ipython",
    "version": 2
   },
   "file_extension": ".py",
   "mimetype": "text/x-python",
   "name": "python",
   "nbconvert_exporter": "python",
   "pygments_lexer": "ipython2",
   "version": "2.7.6"
  }
 },
 "nbformat": 4,
 "nbformat_minor": 5
}
