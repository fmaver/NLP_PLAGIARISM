{
 "cells": [
  {
   "metadata": {},
   "cell_type": "markdown",
   "source": "### Import Libraries",
   "id": "2a4660d4ea007a1b"
  },
  {
   "cell_type": "code",
   "id": "initial_id",
   "metadata": {
    "collapsed": true,
    "ExecuteTime": {
     "end_time": "2024-05-21T00:49:41.117702Z",
     "start_time": "2024-05-21T00:49:41.115237Z"
    }
   },
   "source": [
    "import os\n",
    "\n",
    "from plagiarism.adapters.elasticsearch_db import ElasticsearchConn\n",
    "from plagiarism.adapters.name_detector import NameDetector\n",
    "from plagiarism.domain.models.bert_model import BertModelWrapper\n",
    "from plagiarism.settings.elasticsearch_settings import ElasticsearchSettings"
   ],
   "outputs": [],
   "execution_count": 12
  },
  {
   "metadata": {},
   "cell_type": "markdown",
   "source": "### Start Elasticsearch Connection & Instance of BERT Model",
   "id": "c6400d8211dd2aff"
  },
  {
   "metadata": {
    "ExecuteTime": {
     "end_time": "2024-05-21T00:49:42.552598Z",
     "start_time": "2024-05-21T00:49:41.119244Z"
    }
   },
   "cell_type": "code",
   "source": [
    "bert_model = BertModelWrapper()\n",
    "name_detector = NameDetector()\n",
    "\n",
    "# Initialize Elasticsearch client\n",
    "es_con = ElasticsearchConn(ElasticsearchSettings())\n",
    "es = es_con.conn\n",
    "print(es.info())"
   ],
   "id": "2bee89bee0c1a81c",
   "outputs": [
    {
     "name": "stderr",
     "output_type": "stream",
     "text": [
      "Some weights of BertModel were not initialized from the model checkpoint at dccuchile/bert-base-spanish-wwm-cased and are newly initialized: ['bert.pooler.dense.bias', 'bert.pooler.dense.weight']\n",
      "You should probably TRAIN this model on a down-stream task to be able to use it for predictions and inference.\n"
     ]
    },
    {
     "name": "stdout",
     "output_type": "stream",
     "text": [
      "{'name': '27ab35b5ca16', 'cluster_name': 'docker-cluster', 'cluster_uuid': 'XNNmpQcgSGGXKjjcn62UOQ', 'version': {'number': '8.13.2', 'build_flavor': 'default', 'build_type': 'docker', 'build_hash': '16cc90cd2d08a3147ce02b07e50894bc060a4cbf', 'build_date': '2024-04-05T14:45:26.420424304Z', 'build_snapshot': False, 'lucene_version': '9.10.0', 'minimum_wire_compatibility_version': '7.17.0', 'minimum_index_compatibility_version': '7.0.0'}, 'tagline': 'You Know, for Search'}\n"
     ]
    }
   ],
   "execution_count": 13
  },
  {
   "metadata": {
    "ExecuteTime": {
     "end_time": "2024-05-21T00:49:42.555915Z",
     "start_time": "2024-05-21T00:49:42.553967Z"
    }
   },
   "cell_type": "code",
   "source": [
    "landing_txt_path = \"../../../data_txt/files/\"\n",
    "index_name = \"documents_testing\""
   ],
   "id": "f1e8ea35355319c3",
   "outputs": [],
   "execution_count": 14
  },
  {
   "metadata": {},
   "cell_type": "markdown",
   "source": "### Create Index",
   "id": "a4e243995700157b"
  },
  {
   "metadata": {
    "ExecuteTime": {
     "end_time": "2024-05-21T00:49:42.561456Z",
     "start_time": "2024-05-21T00:49:42.556815Z"
    }
   },
   "cell_type": "code",
   "source": [
    "index_status = es_con.create_index_if_not_exists(index_name)\n",
    "print(index_status)"
   ],
   "id": "a8ec41ddec3e0cb9",
   "outputs": [
    {
     "name": "stdout",
     "output_type": "stream",
     "text": [
      "Index already exists\n"
     ]
    }
   ],
   "execution_count": 15
  },
  {
   "metadata": {},
   "cell_type": "markdown",
   "source": "### Index Documents",
   "id": "53e89b9db22cf0aa"
  },
  {
   "metadata": {
    "ExecuteTime": {
     "end_time": "2024-05-21T00:50:47.826940Z",
     "start_time": "2024-05-21T00:49:42.562863Z"
    }
   },
   "cell_type": "code",
   "source": [
    "for filename in os.listdir(landing_txt_path):\n",
    "    if filename.endswith(\".txt\"):\n",
    "        print(f\"File: {filename}\")\n",
    "        file_path = os.path.join(landing_txt_path, filename)\n",
    "        with open(file_path, \"r\", encoding=\"utf-8\") as file:\n",
    "            text = file.read()\n",
    "\n",
    "            indexing_status = es_con.index_document(index_name, filename, text,\n",
    "                                                    bert_model.get_embedding(text),\n",
    "                                                    name_detector.get_author(file_path, text))\n",
    "            print(indexing_status)\n",
    "\n",
    "print(es_con.refresh(index_name))"
   ],
   "id": "72d4149d983e91aa",
   "outputs": [
    {
     "name": "stdout",
     "output_type": "stream",
     "text": [
      "File: TP_2_Weiss_Gonzalo.txt\n",
      "Document indexed successfully\n",
      "File: TP6-Gariglio.txt\n",
      "Document indexed successfully\n",
      "File: UTNMKT2016-MoraLeandro-TP4.txt\n",
      "Document indexed successfully\n",
      "File: TP4 - Comercio Electronico - Marina Pross.txt\n",
      "Document indexed successfully\n",
      "File: TP N°1 - Wikinomics (1).txt\n",
      "Document indexed successfully\n",
      "File: TP4 - Difusión y adopción TIC - Ramirez Fernando 2017.txt\n",
      "Document indexed successfully\n",
      "File: TP N°04 (1).txt\n",
      "Document indexed successfully\n",
      "File: TP6-Sistemasemergentes-RamirezFernando2017.txt\n",
      "Document indexed successfully\n",
      "File: TP 4 - Wikinomía.txt\n",
      "Document indexed successfully\n",
      "File: TP7 Dominio de la informacion - Juan Facundo Obregon (1).txt\n",
      "Document indexed successfully\n",
      "File: TP 1 - Marketing (1).txt\n",
      "Document indexed successfully\n",
      "File: TP 3 (1).txt\n",
      "Document indexed successfully\n",
      "File: TP2PabloPallocchi (1).txt\n",
      "Document indexed successfully\n",
      "File: TP MKT - Grupo 3 - Interfaces Humanizadas.txt\n",
      "Document indexed successfully\n",
      "File: TP Larga Cola.txt\n",
      "Document indexed successfully\n",
      "File: PREGUNTAS TP Machine, Platform, Crowd.txt\n",
      "Document indexed successfully\n",
      "File: TP4 (7).txt\n",
      "Document indexed successfully\n",
      "File: Tp2-MKT-Romano Karra.txt\n",
      "Document indexed successfully\n",
      "File: TP 2 LargaCola - Hernan Noriega .txt\n",
      "Document indexed successfully\n",
      "File: TP3 (3).txt\n",
      "Document indexed successfully\n",
      "File: TP5 - Plataformas.txt\n",
      "Document indexed successfully\n",
      "File: TP4 Adopcion (1).txt\n",
      "Document indexed successfully\n",
      "File: TP 2 - Franco Zanette.txt\n",
      "Document indexed successfully\n",
      "File: TP2-LaLargaCola-RamirezFernando2017.txt\n",
      "Document indexed successfully\n",
      "File: TP 0 - Marketing.txt\n",
      "Document indexed successfully\n",
      "File: TP2 Marketing 4.0 Kotler - Koszczej, Agustín.txt\n",
      "Document indexed successfully\n",
      "File: TP N° 5 – La sociedad de costo marginal cero - Melanie Blejter.txt\n",
      "Document indexed successfully\n",
      "File: TP5 (6).txt\n",
      "Document indexed successfully\n",
      "File: TPn4 hernan.txt\n",
      "Document indexed successfully\n",
      "File: TP 5 - La sociedad de costo marginal cero.txt\n",
      "Document indexed successfully\n",
      "File: TP 2 Larga Cola - Ezequiel Ogando .txt\n",
      "Document indexed successfully\n",
      "File: Trabajo Práctico 2 - Hernan Dalle Nogare.txt\n",
      "Document indexed successfully\n",
      "File: TP_3_Weiss_Gonzalo.txt\n",
      "Document indexed successfully\n",
      "File: TP 2 - Long Tail.txt\n",
      "Document indexed successfully\n",
      "File: Trabajo Práctico 5 - Hernan Dalle Nogare.txt\n",
      "Document indexed successfully\n",
      "File: Marketing - TP 1.txt\n",
      "Document indexed successfully\n",
      "File: UTNMktg2016-LeonPeralta-TP6.txt\n",
      "Document indexed successfully\n",
      "File: TP6 (1).txt\n",
      "Document indexed successfully\n",
      "File: TP5 - Rifkin.txt\n",
      "Document indexed successfully\n",
      "File: Preguntas TP Economía de experiencia - Gabriela Gonzalez.txt\n",
      "Document indexed successfully\n",
      "File: UTN Mktg 2016 - Modugno - TP1.txt\n",
      "Document indexed successfully\n",
      "File: TP1 - La Larga Cola - Marina Pross.txt\n",
      "Document indexed successfully\n",
      "File: TP3 (2).txt\n",
      "Document indexed successfully\n",
      "File: Marketing - TP 0.txt\n",
      "Document indexed successfully\n",
      "File: UTN - TP 2 - Matias Sas .txt\n",
      "Document indexed successfully\n",
      "File: TP4 (6).txt\n",
      "Document indexed successfully\n",
      "File: TP 5 La sociedad de costo cero - Hernan Noriega.txt\n",
      "Document indexed successfully\n",
      "File: TP N° 2 – La larga cola - Melanie Blejter.txt\n",
      "Document indexed successfully\n",
      "File: Marketing - TP 2.txt\n",
      "Document indexed successfully\n",
      "File: TP_6_Weiss_Gonzalo.txt\n",
      "Document indexed successfully\n",
      "File: Domótica_Final.txt.txt\n",
      "Document indexed successfully\n",
      "File: TP4 - ecommerce.txt\n",
      "Document indexed successfully\n",
      "File: UTNMktg2016-LeonPeralta-TP5.txt\n",
      "Document indexed successfully\n",
      "File: UTN Mktg 2016 - Modugno - TP3.txt\n",
      "Document indexed successfully\n",
      "File: TP5 - Machine, Platform, Cloud - Marina Pross.txt\n",
      "Document indexed successfully\n",
      "File: Marketing en Internet y Nueva Economía - TP0.txt\n",
      "Document indexed successfully\n",
      "File: UTNMktg2016-LeonPeralta-TP4.txt\n",
      "Document indexed successfully\n",
      "File: TP2 - Long Tail- Joel Melamed.txt\n",
      "Document indexed successfully\n",
      "File: TP3 - The Experience Economy.txt\n",
      "Document indexed successfully\n",
      "File: TP4 (1).txt\n",
      "Document indexed successfully\n",
      "File: MKT 2016 - Alan Szpigiel - TP4 (2).txt\n",
      "Document indexed successfully\n",
      "File: TP 3-Franco Zanette.txt\n",
      "Document indexed successfully\n",
      "File: TP N° 3 – The Experience Economy - Melanie Blejter.txt\n",
      "Document indexed successfully\n",
      "File: Tp3-MKT-Romano Karra.txt\n",
      "Document indexed successfully\n",
      "File: UTN - MARKETING - TP4 (1).txt\n",
      "Document indexed successfully\n",
      "File: UTNMktg2016-Maschwitz-TP1.txt\n",
      "Document indexed successfully\n",
      "File: Mkt_JourdanMartin_Tp1.txt\n",
      "Document indexed successfully\n",
      "File: TP 3 Experience Economy - Hernan Noriega .txt\n",
      "Document indexed successfully\n",
      "File: TP N° 4 – Difusión y Adopción TIC - Melanie Blejter.txt\n",
      "Document indexed successfully\n",
      "File: Trabajo Práctico 3 - Hernan Dalle Nogare (2).txt\n",
      "Document indexed successfully\n",
      "File: UTN - TP 1 - Matias Sas .txt\n",
      "Document indexed successfully\n",
      "File: TP 4 - Marketing en Internet y Nueva Economía - Lucas Corbo.txt\n",
      "Document indexed successfully\n",
      "File: TP3 - The experience economy - Pine II y Gilmore - Santiago Peralta (1).txt\n",
      "Document indexed successfully\n",
      "File: TP_5_Weiss_Gonzalo.txt\n",
      "Document indexed successfully\n",
      "File: TP 5 - Rodrigo Campassi - Plataformas y modelos de ebusiness.txt\n",
      "Document indexed successfully\n",
      "File: TP 5 (2).txt\n",
      "Document indexed successfully\n",
      "File: K5071 - Matias David Choren - TP N°5 Rifkin (1).txt\n",
      "Document indexed successfully\n",
      "File: TP 1 - Larga Cola - Campassi Rodrigo .txt\n",
      "Document indexed successfully\n",
      "File: TP6  - Sistemas emergentes - Joel Melamed.txt\n",
      "Document indexed successfully\n",
      "File: TP 2 - Marketing 4.0 - Phillip Kotler - Juan Cruz Reines.txt\n",
      "Document indexed successfully\n",
      "File: UTN - Marketing - TP3 - Matias Sas (1).txt\n",
      "Document indexed successfully\n",
      "File: TP N°2 Larga Cola.txt\n",
      "Document indexed successfully\n",
      "File: TP1 - Larga cola.txt\n",
      "Document indexed successfully\n",
      "File: TP 6 - Sistemas emergentes.txt\n",
      "Document indexed successfully\n",
      "File: TP3 - Economia de la experiencia - Marina Pross.txt\n",
      "Document indexed successfully\n",
      "File: TP1-Wikinomics-RamirezFernando2017.txt\n",
      "Document indexed successfully\n",
      "File: Tp2 Filannino marketing en internet.txt\n",
      "Document indexed successfully\n",
      "File: UTNMktg2016-Maschwitz-TP6.txt\n",
      "Document indexed successfully\n",
      "File: TP 6 - Sistemas Emergentes (1).txt\n",
      "Document indexed successfully\n",
      "File: UTNMktg2016-Maschwitz-TP7.txt\n",
      "Document indexed successfully\n",
      "File: TP 1 - Wikinomics.txt\n",
      "Document indexed successfully\n",
      "File: TP6 - Sistemas emergentes - Hernan Noriega (1).txt\n",
      "Document indexed successfully\n",
      "File: TP 6 - Joan Manuel do Carmo.txt\n",
      "Document indexed successfully\n",
      "File: TP 3 - the experience economy.txt\n",
      "Document indexed successfully\n",
      "File: TP1 - La Larga Cola.txt\n",
      "Document indexed successfully\n",
      "File: TP_4_Weiss_Gonzalo (1).txt\n",
      "Document indexed successfully\n",
      "File: TP4 - Comercio electronico.txt\n",
      "Document indexed successfully\n",
      "File: TP5 (1).txt\n",
      "Document indexed successfully\n",
      "File: TP4PabloPallocchi (1).txt\n",
      "Document indexed successfully\n",
      "File: TP Rifkin.txt\n",
      "Document indexed successfully\n",
      "File: K5071 - Matias David Choren - TP N6 Sistemas Emergentes (1).txt\n",
      "Document indexed successfully\n",
      "File: UTNMktg2016-Maschwitz-TP4.txt\n",
      "Document indexed successfully\n",
      "File: TP 2 - Marketing en Internet y Nueva Economía - Lucas Corbo.txt\n",
      "Document indexed successfully\n",
      "File: TP4 - Adopcion.txt\n",
      "Document indexed successfully\n",
      "File: TP5 (2).txt\n",
      "Document indexed successfully\n",
      "File: TP - 4 (1).txt\n",
      "Document indexed successfully\n",
      "File: TP1.txt\n",
      "Document indexed successfully\n",
      "File: TP1-Wikinomics.txt\n",
      "Document indexed successfully\n",
      "File: TP2 MKT - Gariglio.txt\n",
      "Document indexed successfully\n",
      "File: Tp6 Filannino marketing en internet.txt\n",
      "Document indexed successfully\n",
      "File: TP 2 - La economía Long Tail.txt\n",
      "Document indexed successfully\n",
      "File: TP 5 - Machine, Platform, Crowd.txt\n",
      "Document indexed successfully\n",
      "File: TP 3.txt\n",
      "Document indexed successfully\n",
      "File: TP3 - Ignacio Penacino - Marketing.txt\n",
      "Document indexed successfully\n",
      "File: TP2 V1.txt\n",
      "Document indexed successfully\n",
      "File: TP N° 6 – Sistemas emergentes - Melanie Blejter.txt\n",
      "Document indexed successfully\n",
      "File: TP1-Franco Zanette.txt\n",
      "Document indexed successfully\n",
      "File: TP 4 Difusión y adopción - Hernan Noriega.txt\n",
      "Document indexed successfully\n",
      "File: TP3.txt\n",
      "Document indexed successfully\n",
      "File: Tp 5 Filannino marketing en internet.txt\n",
      "Document indexed successfully\n",
      "File: TP1PabloPallocchi.txt\n",
      "Document indexed successfully\n",
      "File: TP 3 - The experience economy - Joseph PINE II y James GILMORE - Juan Cruz Reines.txt\n",
      "Document indexed successfully\n",
      "File: TP N° 3 – The Experience Economy - Hernán Kotler.txt\n",
      "Document indexed successfully\n",
      "File: PREGUNTAS TP Machine, Platform, Crowd Gabriela Gonzalez.txt\n",
      "Document indexed successfully\n",
      "File: Trabajo Práctico 1 - Hernan Dalle Nogare.txt\n",
      "Document indexed successfully\n",
      "File: TP5 - La sociedad de MG Cero - Rifkin - Santiago Peralta (1).txt\n",
      "Document indexed successfully\n",
      "File: TP6.txt\n",
      "Document indexed successfully\n",
      "File: TP3 - Economía de experiencia - Pine y Gilmore.txt\n",
      "Document indexed successfully\n",
      "File: UTN - MARKETING - SAS - TP5.txt\n",
      "Document indexed successfully\n",
      "File: TP 3 - Economia de la experiencia.txt\n",
      "Document indexed successfully\n",
      "File: MKTG_TP2  - Suchecki - Marketing 4.0.txt\n",
      "Document indexed successfully\n",
      "File: Tp4 Filannino marketing en internet (1).txt\n",
      "Document indexed successfully\n",
      "File: TP5.txt\n",
      "Document indexed successfully\n",
      "File: TP4 - Adopcion TIC - Joel Melamed.txt\n",
      "Document indexed successfully\n",
      "File: TP1 (1).txt\n",
      "Document indexed successfully\n",
      "File: UTN - MARKETING - SAS - TP6.txt\n",
      "Document indexed successfully\n",
      "File: TP4.txt\n",
      "Document indexed successfully\n",
      "File: Tp0-MKT-Romano Karra.txt\n",
      "Document indexed successfully\n",
      "File: TP2 - Marketing 4.0.txt\n",
      "Document indexed successfully\n",
      "File: TP N° 1 – WIKINOMICS - Melanie Blejter.txt\n",
      "Document indexed successfully\n",
      "File: K5071 - Matias David Choren - TP3 - Experience Economy.txt\n",
      "Document indexed successfully\n",
      "File: TP5-Franco Zanette.txt.txt\n",
      "Document indexed successfully\n",
      "File: TP5-Gariglio.txt\n",
      "Document indexed successfully\n",
      "File: TP 3 - Marketing en Internet y Nueva Economía - Lucas Corbo.txt\n",
      "Document indexed successfully\n",
      "File: TP 2 - Marketing.txt\n",
      "Document indexed successfully\n",
      "File: TP2 - Marketing 4.0 - Kotler (1).txt\n",
      "Document indexed successfully\n",
      "File: TP2 - Ignacio Penacino - Marketing.txt\n",
      "Document indexed successfully\n",
      "File: TP 3 The experience economy (3).txt\n",
      "Document indexed successfully\n",
      "File: TP5 (4).txt\n",
      "Document indexed successfully\n",
      "File: SCHMID TP N°3 Experience Economy (1).txt\n",
      "Document indexed successfully\n",
      "File: TP6 (2).txt\n",
      "Document indexed successfully\n",
      "File: TP5-Lasociedaddecostomarginalcero-RamirezFernando2017.txt\n",
      "Document indexed successfully\n",
      "File: Trabajo Práctico 4 - Hernan Dalle Nogare.txt\n",
      "Document indexed successfully\n",
      "File: TP N°05.txt\n",
      "Document indexed successfully\n",
      "File: TP2 - Marketing 4.0 - Marina Pross.txt\n",
      "Document indexed successfully\n",
      "File: TP N°3 - The experience economy - Pine II y Gilmore.txt\n",
      "Document indexed successfully\n",
      "File: TP3PabloPallocchi.txt\n",
      "Document indexed successfully\n",
      "File: Preguntas TP Marketing 4.0 - Kotler  Gabriela Gonzalez.txt\n",
      "Document indexed successfully\n",
      "File: MKT-TP N° 3 The experience Economy - Diego Noya.txt\n",
      "Document indexed successfully\n",
      "File: TP 4-Franco Zanette.txt\n",
      "Document indexed successfully\n",
      "File: TP3 - Economía de experiencia.txt\n",
      "Document indexed successfully\n",
      "File: MKTG_TP0  - Definiciones Economia.txt\n",
      "Document indexed successfully\n",
      "File: TP 3 Experience Economy.txt\n",
      "Document indexed successfully\n",
      "File: TP4-Gariglio.txt\n",
      "Document indexed successfully\n",
      "File: TP 1 - Marketing en Internet y Nueva Economía - Lucas Corbo.txt\n",
      "Document indexed successfully\n",
      "File: TP N° 4 – Difusión y Adopción TIC - Hernán Kotler.txt\n",
      "Document indexed successfully\n",
      "File: TP 3 - Economía de Experiencia - Andrés Basso.txt\n",
      "Document indexed successfully\n",
      "File: Tp3 Filannino marketing en internet (1).txt\n",
      "Document indexed successfully\n",
      "File: TP2 - Marketing 4.0 - Kotler.txt\n",
      "Document indexed successfully\n",
      "File: TP2 (1).txt\n",
      "Document indexed successfully\n",
      "File: TP 4 - E-commerce - Juan Cruz Reines.txt\n",
      "Document indexed successfully\n",
      "File: Economía de experiencia (1).txt\n",
      "Document indexed successfully\n",
      "File: TP5 - La sociedad del costo marginal 0.txt\n",
      "Document indexed successfully\n",
      "File: TP N°02.txt\n",
      "Document indexed successfully\n",
      "File: TP N°03.txt\n",
      "Document indexed successfully\n",
      "File: MKTG_TP4  - Suchecki - Comercio Electronico.txt\n",
      "Document indexed successfully\n",
      "File: TP3 - Economia de experiencia - Joel Melamed.txt\n",
      "Document indexed successfully\n",
      "Index refreshed successfully\n"
     ]
    }
   ],
   "execution_count": 16
  },
  {
   "metadata": {},
   "cell_type": "markdown",
   "source": "## Test the plagiarism detection with examples:",
   "id": "ef9c35c16bf05a07"
  },
  {
   "metadata": {},
   "cell_type": "markdown",
   "source": [
    "### Test 1\n",
    "#### NOT PLAGIARIZED"
   ],
   "id": "6e4454308d6ee81b"
  },
  {
   "metadata": {
    "ExecuteTime": {
     "end_time": "2024-05-21T00:50:49.413314Z",
     "start_time": "2024-05-21T00:50:47.827573Z"
    }
   },
   "cell_type": "code",
   "source": [
    "filename_test = \"exmaple.txt\"\n",
    "query = (\"Este texto es un texto de ejemplo para probar el modelo BERT. Vamos a hablar sobre las criptomonedas.\"\n",
    "         \"Bitcoin es la criptomoneda más popular. Ethereum es otra criptomoneda muy conocida.\")\n",
    "# Example query\n",
    "similar_docs = es_con.search_similar_documents(index_name, query)\n",
    "\n",
    "print(f\"\\nSimilar documents to '{filename_test}':\")\n",
    "for doc in similar_docs:\n",
    "    print(f\"\\nScore: {doc['_score']}, Document ID: {doc['_id']}, Student Name: {doc['_source']['student_name']}\")"
   ],
   "id": "7f38ad7055e20553",
   "outputs": [
    {
     "name": "stderr",
     "output_type": "stream",
     "text": [
      "Some weights of BertModel were not initialized from the model checkpoint at dccuchile/bert-base-spanish-wwm-cased and are newly initialized: ['bert.pooler.dense.bias', 'bert.pooler.dense.weight']\n",
      "You should probably TRAIN this model on a down-stream task to be able to use it for predictions and inference.\n"
     ]
    },
    {
     "name": "stdout",
     "output_type": "stream",
     "text": [
      "\n",
      "Similar documents to 'exmaple.txt':\n",
      "\n",
      "Score: 0.91521233, Document ID: TP N° 2 – La larga cola - Melanie Blejter.txt, Student Name: Melanie Blejter\n",
      "\n",
      "Score: 0.91408896, Document ID: TP2 (1).txt, Student Name: Tomás Duhourq\n",
      "\n",
      "Score: 0.9139896, Document ID: TP1.txt, Student Name: UNKNOWN_AUTHOR\n",
      "\n",
      "Score: 0.91380066, Document ID: PREGUNTAS TP Machine, Platform, Crowd Gabriela Gonzalez.txt, Student Name: Erik Brynjolfsson\n",
      "\n",
      "Score: 0.9135382, Document ID: TP Rifkin.txt, Student Name: UNKNOWN_AUTHOR\n"
     ]
    }
   ],
   "execution_count": 17
  },
  {
   "metadata": {},
   "cell_type": "markdown",
   "source": [
    "### Test 2\n",
    "#### PLAGIARIZED"
   ],
   "id": "3304d355335f872"
  },
  {
   "metadata": {
    "ExecuteTime": {
     "end_time": "2024-05-21T00:50:50.974727Z",
     "start_time": "2024-05-21T00:50:49.414174Z"
    }
   },
   "cell_type": "code",
   "source": [
    "    query_2 = ('1)\t¿Cómo define Anderson a \"La larga cola\"?  ¿Por qué asegura que es el presente y futuro de la economía minorista? Grafique. '\n",
    "               'El concepto de La larga cola explica que además de los productos populares/hits existe una enorme cantidad de productos no tan consumidos/de nicho que totalizados representan una porción muy grande del mercado que puede incluso competir con los hits.'\n",
    "               'Asegura que es el presente y futuro de la economía minorista porque ahora quienes fabrican pueden pones a disposición de minorista en el mercado no sólo productos para el común denominador de la gente sino también para los nichos.'\n",
    "               'El consumidor puede encontrar todo en la larga cola.'\n",
    "               'Llevado a gráfico puede representarse genéricamente de la siguiente manera:')\n",
    "\n",
    "    similar_docs = es_con.search_similar_documents(index_name, query_2)\n",
    "\n",
    "    print(f\"\\nSimilar documents to La larga cola test:\")\n",
    "    for doc in similar_docs:\n",
    "        print(f\"\\nScore: {doc['_score']}, Document ID: {doc['_id']}, Student Name: {doc['_source']['student_name']}\")"
   ],
   "id": "da3b8eddc2db3ee7",
   "outputs": [
    {
     "name": "stderr",
     "output_type": "stream",
     "text": [
      "Some weights of BertModel were not initialized from the model checkpoint at dccuchile/bert-base-spanish-wwm-cased and are newly initialized: ['bert.pooler.dense.bias', 'bert.pooler.dense.weight']\n",
      "You should probably TRAIN this model on a down-stream task to be able to use it for predictions and inference.\n"
     ]
    },
    {
     "name": "stdout",
     "output_type": "stream",
     "text": [
      "\n",
      "Similar documents to La larga cola test:\n",
      "\n",
      "Score: 0.97487867, Document ID: TP Larga Cola.txt, Student Name: Hernán Suzuki Son\n",
      "\n",
      "Score: 0.9740537, Document ID: Tp2 Filannino marketing en internet.txt, Student Name: UNKNOWN_AUTHOR\n",
      "\n",
      "Score: 0.9731908, Document ID: TP 2 - La economía Long Tail.txt, Student Name: Ventas\n",
      "\n",
      "Score: 0.97317445, Document ID: TP1 - Larga cola.txt, Student Name: Ley De Pareto\n",
      "\n",
      "Score: 0.9727902, Document ID: UTN - TP 2 - Matias Sas .txt, Student Name: Matias Sas\n"
     ]
    }
   ],
   "execution_count": 18
  },
  {
   "metadata": {},
   "cell_type": "markdown",
   "source": [
    "## Conclusion\n",
    "### With a Treshold of 0,97 -> we can say that the text has a good chance of being plagiarized"
   ],
   "id": "7fae7fec066dbf48"
  },
  {
   "metadata": {},
   "cell_type": "code",
   "outputs": [],
   "execution_count": null,
   "source": "",
   "id": "de7030df3e24aa62"
  }
 ],
 "metadata": {
  "kernelspec": {
   "display_name": "Python 3",
   "language": "python",
   "name": "python3"
  },
  "language_info": {
   "codemirror_mode": {
    "name": "ipython",
    "version": 2
   },
   "file_extension": ".py",
   "mimetype": "text/x-python",
   "name": "python",
   "nbconvert_exporter": "python",
   "pygments_lexer": "ipython2",
   "version": "2.7.6"
  }
 },
 "nbformat": 4,
 "nbformat_minor": 5
}
